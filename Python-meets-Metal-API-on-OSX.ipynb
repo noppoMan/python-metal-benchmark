{
 "cells": [
  {
   "cell_type": "markdown",
   "metadata": {},
   "source": [
    "# How to Access Metal API from Python?\n",
    "\n",
    "\n",
    "\n",
    "\n",
    "There are several ways to access Metal API from Python. I chose to access it via Swift (It's standard way). \n",
    "\n",
    "Here are the instructions for builiding swift and load dylib from python.\n",
    "\n",
    "<!-- PythonからMetalにアクセスするにはいくつかの方法がありますが、私はSwiftを介してMetalにアクセスすることにしました。\n",
    "PythonからSwiftのプログラムを実行するフローは次のようになります。 -->\n",
    "\n",
    "1. Writing Swift Program that use Metal\n",
    "    * Writing Metal Shaders\n",
    "        * Example: [Shaders.metal](https://github.com/noppoMan/python-metal-benchmark/blob/gh-pages/PyMetalBridge/Sources/PyMetalBridge/Shaders.metal)\n",
    "        * Documents: [Metal-Shading-Language-Specification](https://developer.apple.com/metal/Metal-Shading-Language-Specification.pdf)\n",
    "    * [Build Metal Sahders](https://developer.apple.com/documentation/metal/libraries/building_a_library_with_metal_s_command-line_tools)\n",
    "    * [Load .metallib from Swift and wiriting pipeline program for it](https://github.com/noppoMan/python-metal-benchmark/blob/gh-pages/PyMetalBridge/Sources/PyMetalBridge/PyMetalBridge.swift#L11)\n",
    "2. [Build and export Swift program as dynamic library](https://github.com/noppoMan/python-metal-benchmark/blob/gh-pages/PyMetalBridge/README.md)\n",
    "3. Load dylib(created at step.2) in Python with [ctypes](https://docs.python.org/3/library/ctypes.html)\n",
    "\n",
    "\n",
    "# Example"
   ]
  },
  {
   "cell_type": "code",
   "execution_count": 1,
   "metadata": {},
   "outputs": [],
   "source": [
    "import platform\n",
    "import numpy as np\n",
    "import ctypes\n",
    "import time\n",
    "import math\n",
    "import time\n",
    "from sklearn.metrics.pairwise import cosine_similarity\n",
    "import matplotlib.pyplot as plt"
   ]
  },
  {
   "cell_type": "code",
   "execution_count": 2,
   "metadata": {},
   "outputs": [
    {
     "name": "stdout",
     "output_type": "stream",
     "text": [
      "Python 3.8.0\r\n"
     ]
    }
   ],
   "source": [
    "!python --version"
   ]
  },
  {
   "cell_type": "code",
   "execution_count": 3,
   "metadata": {},
   "outputs": [],
   "source": [
    "# Loads dylib like dlopen\n",
    "swift_fun = ctypes.CDLL(\"./PyMetalBridge/.build/release/libPyMetalBridge.dylib\")\n",
    "\n",
    "# decleare arguments for function pointer\n",
    "swift_fun.swift_sigmoid_on_gpu.argtypes = [\n",
    "    ctypes.POINTER(ctypes.c_float), \n",
    "    ctypes.POINTER(ctypes.c_float), \n",
    "    ctypes.c_int\n",
    "]\n",
    "\n",
    "def swift_sigmoid_on_gpu(input_array):\n",
    "    input_ptr = input_array.ctypes.data_as(ctypes.POINTER(ctypes.c_float))\n",
    "    output_mutable_ptr = (ctypes.c_float * len(input_array))()\n",
    "    swift_fun.swift_sigmoid_on_gpu(input_ptr, output_mutable_ptr, len(input_array))\n",
    "    return np.array(output_mutable_ptr)"
   ]
  },
  {
   "cell_type": "code",
   "execution_count": 4,
   "metadata": {
    "scrolled": false
   },
   "outputs": [
    {
     "data": {
      "text/plain": [
       "array([0.6631254 , 0.34386754, 0.47468635, 0.42544967, 0.55456567,\n",
       "       0.37789935, 0.28491375, 0.64523005, 0.71711004, 0.4564191 ,\n",
       "       0.7069524 , 0.36841398, 0.38514578, 0.69130397, 0.39588487,\n",
       "       0.3833351 , 0.67351717, 0.7153257 , 0.46847546, 0.6175204 ,\n",
       "       0.63834405, 0.5888168 , 0.5403071 , 0.43178084, 0.56773007,\n",
       "       0.6346955 , 0.71699405, 0.6447153 , 0.4438148 , 0.7230937 ,\n",
       "       0.30244544, 0.61988413, 0.6813066 , 0.47608435, 0.35673964,\n",
       "       0.52870345, 0.5452527 , 0.42378187, 0.34905508, 0.31308657,\n",
       "       0.6904162 , 0.60655206, 0.60422814, 0.5270733 , 0.5628574 ,\n",
       "       0.6087762 , 0.5695692 , 0.40402642, 0.49489447, 0.68704504,\n",
       "       0.71259475, 0.2739107 , 0.29176977, 0.39175686, 0.45773083,\n",
       "       0.45625463, 0.5739437 , 0.36191016, 0.6900716 , 0.46827307,\n",
       "       0.31729132, 0.7124829 , 0.5857014 , 0.64435226, 0.6499076 ,\n",
       "       0.4520865 , 0.47886142, 0.3448555 , 0.37214863, 0.5798032 ,\n",
       "       0.37759492, 0.70344627, 0.61530274, 0.42618215, 0.43847406,\n",
       "       0.3554328 , 0.5815801 , 0.28651702, 0.46709502, 0.4621916 ,\n",
       "       0.6533179 , 0.5020056 , 0.58199304, 0.70567364, 0.7086262 ,\n",
       "       0.32833424, 0.27182686, 0.39663723, 0.36414573, 0.41473845,\n",
       "       0.46099064, 0.6454058 , 0.6074181 , 0.48419476, 0.64350086,\n",
       "       0.6810898 , 0.33606666, 0.5309053 , 0.42562413, 0.3612169 ],\n",
       "      dtype=float32)"
      ]
     },
     "execution_count": 4,
     "metadata": {},
     "output_type": "execute_result"
    }
   ],
   "source": [
    "input_array = np.random.uniform(-1, 1, 100).astype(\"float32\") # data type have to be float32 for GPU\n",
    "swift_result = swift_sigmoid_on_gpu(input_array)\n",
    "swift_result"
   ]
  },
  {
   "cell_type": "markdown",
   "metadata": {},
   "source": [
    "It seems to work fine, but you may be wondering if the calculation result is correct? So, let's implement a sigmoid function in python to verify and compare the result."
   ]
  },
  {
   "cell_type": "code",
   "execution_count": 5,
   "metadata": {},
   "outputs": [],
   "source": [
    "def sigmoid(x):\n",
    "    return 1 / (1 + np.exp(-x))\n",
    "\n",
    "python_result = sigmoid(input_array).astype(\"float32\")"
   ]
  },
  {
   "cell_type": "markdown",
   "metadata": {},
   "source": [
    "### Validate Results with cosine_similarity\n",
    "\n",
    "Let's compare swift_result and python_results by cosine_similarity to validate calculation justification."
   ]
  },
  {
   "cell_type": "code",
   "execution_count": 6,
   "metadata": {},
   "outputs": [
    {
     "data": {
      "text/plain": [
       "array([[1., 1.],\n",
       "       [1., 1.]], dtype=float32)"
      ]
     },
     "execution_count": 6,
     "metadata": {},
     "output_type": "execute_result"
    }
   ],
   "source": [
    "# Returns a matrix whose elements are all 1, if the 2 vectors are same\n",
    "cosine_similarity([python_result, python_result])"
   ]
  },
  {
   "cell_type": "code",
   "execution_count": 7,
   "metadata": {},
   "outputs": [
    {
     "data": {
      "text/plain": [
       "array([[0.99999994, 1.        ],\n",
       "       [1.        , 1.        ]], dtype=float32)"
      ]
     },
     "execution_count": 7,
     "metadata": {},
     "output_type": "execute_result"
    }
   ],
   "source": [
    "cosine_similarity([swift_result, python_result])"
   ]
  },
  {
   "cell_type": "markdown",
   "metadata": {},
   "source": [
    "Wow! almost same!"
   ]
  },
  {
   "cell_type": "markdown",
   "metadata": {},
   "source": [
    "# Benchmarking\n",
    "\n",
    "#### Test Machine Spec: Apple MacBook Pro (16-inch, 2019)\n",
    "\n",
    "* Processor: 2.4 GHz 8-Core Intel Core i9\n",
    "* RAM: 64 GB 2667 MHz DDR\n",
    "* GPU: AMD Radeon Pro 5500M（4GB)\n",
    "\n",
    "<!-- Pythonからmetalを実行できたとしても、実行速度が速くならばければコストをかけるメリットがありません。よって、複雑な計算をpure pythonとmetalの両方で行って、そのパフォーマンスを比較してみましょう。今回は、$[-1, 1]$からランダムに10万件のサンプルを取り出した数値に対して、次のフーリエ級数として展開し、その後一階微分するようなことを\n",
    "試みます。 -->\n",
    "\n",
    "Even if we can access Metal API from Python, there is no point unless the processing performance improves. So let's run complex calculations in both Pure Python and Metal to compare their performance. This time, we expand the Fourier series(as shown bellow) for the numerical values of 100,000 samples created with `np.arange(-50, 50, 0.001)`, and then perform the 1-th numerical differentiation.\n",
    "\n",
    "#### fourier series\n",
    "$$\n",
    "f(x) = \\sin(x) + \\frac{1}{3}\\sin(3x) + \\frac{1}{5}\\sin(5x) + \\frac{1}{7}\\sin(7x) + \\cdots ++ \\frac{1}{99}\\sin(99x)\n",
    "$$"
   ]
  },
  {
   "cell_type": "code",
   "execution_count": 8,
   "metadata": {},
   "outputs": [],
   "source": [
    "def f(x):\n",
    "    approximate = 0\n",
    "    for coeff in range(1, 100, 2):\n",
    "        approximate += (1/coeff)*np.sin(coeff*x)\n",
    "        \n",
    "    return approximate"
   ]
  },
  {
   "cell_type": "markdown",
   "metadata": {},
   "source": [
    "#### numerical differential \n",
    "\n",
    "$$\n",
    "\\frac{df}{dx} = \\frac{f(x + \\Delta) - f(x - \\Delta)}{2 \\Delta}\n",
    "$$"
   ]
  },
  {
   "cell_type": "code",
   "execution_count": 9,
   "metadata": {},
   "outputs": [],
   "source": [
    "def differential(f, x):\n",
    "    delta = 1e-4\n",
    "    return (f(x+delta) - f(x-delta)) / 2*delta"
   ]
  },
  {
   "cell_type": "markdown",
   "metadata": {},
   "source": [
    "## Benchmarking of Pure Python and numpy"
   ]
  },
  {
   "cell_type": "code",
   "execution_count": 10,
   "metadata": {},
   "outputs": [],
   "source": [
    "def python_differential_using_for_loop(input_array):\n",
    "    result = []\n",
    "    for x in input_array:\n",
    "        result.append(differential(f, x))\n",
    "    \n",
    "    return np.array(result)"
   ]
  },
  {
   "cell_type": "code",
   "execution_count": 11,
   "metadata": {},
   "outputs": [
    {
     "data": {
      "text/plain": [
       "(100000,)"
      ]
     },
     "execution_count": 11,
     "metadata": {},
     "output_type": "execute_result"
    }
   ],
   "source": [
    "input_array = np.arange(-50, 50, 0.001).astype(\"float32\") # have to be float32 for GPU\n",
    "input_array.shape"
   ]
  },
  {
   "cell_type": "markdown",
   "metadata": {},
   "source": [
    "### Pure Python"
   ]
  },
  {
   "cell_type": "code",
   "execution_count": 12,
   "metadata": {},
   "outputs": [
    {
     "name": "stdout",
     "output_type": "stream",
     "text": [
      "CPU times: user 15.8 s, sys: 35.6 ms, total: 15.9 s\n",
      "Wall time: 15.9 s\n"
     ]
    }
   ],
   "source": [
    "%%time\n",
    "python_result = python_differential_using_for_loop(input_array)"
   ]
  },
  {
   "cell_type": "markdown",
   "metadata": {},
   "source": [
    "### Optimized calculation with numpy.apply_along_axis"
   ]
  },
  {
   "cell_type": "code",
   "execution_count": 13,
   "metadata": {},
   "outputs": [
    {
     "name": "stdout",
     "output_type": "stream",
     "text": [
      "CPU times: user 20.5 ms, sys: 1.66 ms, total: 22.2 ms\n",
      "Wall time: 21.1 ms\n"
     ]
    }
   ],
   "source": [
    "%%time\n",
    "optimized_python_result = np.apply_along_axis(lambda x: differential(f, x), 0, input_array)"
   ]
  },
  {
   "cell_type": "markdown",
   "metadata": {},
   "source": [
    "It became much faster by using `np.apply_along_axis`. Therefore, I use `np.apply_along_axis` for benchmarking target for this time."
   ]
  },
  {
   "cell_type": "markdown",
   "metadata": {},
   "source": [
    "## Benchmarking of Python + Swift and Metal\n",
    "\n",
    "### fourier series and numerical differential in Metal Shders\n",
    "\n",
    "```c++\n",
    "inline float f(const float x) {\n",
    "    float approximate = 0;\n",
    "    for(int coeff = 1; coeff < 100; coeff+=2) {\n",
    "        approximate += ((float)1/coeff)*sin(coeff*x);\n",
    "    }\n",
    "    return approximate;\n",
    "}\n",
    "\n",
    "constant float delta = 1e-4;\n",
    "\n",
    "kernel void differential(const device float *inVector [[ buffer(0) ]],\n",
    "                    device float *outVector [[ buffer(1) ]],\n",
    "                    uint id [[ thread_position_in_grid ]]) {\n",
    "    \n",
    "    float x = inVector[id];\n",
    "    outVector[id] = (f(x+delta) - f(x-delta)) / 2.0f*delta;\n",
    "}\n",
    "```\n",
    "\n",
    "\n",
    "### Loads dylib and declares swift function"
   ]
  },
  {
   "cell_type": "code",
   "execution_count": 14,
   "metadata": {},
   "outputs": [],
   "source": [
    "swift_fun = ctypes.CDLL(\"./PyMetalBridge/.build/release/libPyMetalBridge.dylib\")\n",
    "\n",
    "# decleare arguments type\n",
    "swift_fun.swift_differential_on_gpu.argtypes = [\n",
    "    ctypes.POINTER(ctypes.c_float), \n",
    "    ctypes.POINTER(ctypes.c_float),\n",
    "    ctypes.c_int\n",
    "]\n",
    "\n",
    "def swift_differential_on_gpu(input_array):\n",
    "    input_ptr = input_array.ctypes.data_as(ctypes.POINTER(ctypes.c_float))\n",
    "    output_mutable_ptr = (ctypes.c_float * len(input_array))()\n",
    "    swift_fun.swift_differential_on_gpu(input_ptr, output_mutable_ptr, len(input_array))\n",
    "    return np.array(output_mutable_ptr)"
   ]
  },
  {
   "cell_type": "markdown",
   "metadata": {},
   "source": [
    "## First Time(Cold)"
   ]
  },
  {
   "cell_type": "code",
   "execution_count": 15,
   "metadata": {},
   "outputs": [
    {
     "name": "stdout",
     "output_type": "stream",
     "text": [
      "CPU times: user 1.42 ms, sys: 1.73 ms, total: 3.15 ms\n",
      "Wall time: 931 ms\n"
     ]
    }
   ],
   "source": [
    "%%time\n",
    "swift_result = swift_differential_on_gpu(input_array)"
   ]
  },
  {
   "cell_type": "markdown",
   "metadata": {},
   "source": [
    "## Second Time(Hot)"
   ]
  },
  {
   "cell_type": "code",
   "execution_count": 16,
   "metadata": {},
   "outputs": [
    {
     "name": "stdout",
     "output_type": "stream",
     "text": [
      "CPU times: user 827 µs, sys: 1.08 ms, total: 1.9 ms\n",
      "Wall time: 1.14 ms\n"
     ]
    }
   ],
   "source": [
    "%%time\n",
    "swift_result = swift_differential_on_gpu(input_array)"
   ]
  },
  {
   "cell_type": "markdown",
   "metadata": {},
   "source": [
    "As results, numpy took `21.1`, but Python + Metal took `1.14 ms` at second time. So, Metal is incredibly faster!"
   ]
  },
  {
   "cell_type": "markdown",
   "metadata": {},
   "source": [
    "# Validate Results"
   ]
  },
  {
   "cell_type": "code",
   "execution_count": 17,
   "metadata": {},
   "outputs": [
    {
     "data": {
      "text/plain": [
       "((100000,), (100000,))"
      ]
     },
     "execution_count": 17,
     "metadata": {},
     "output_type": "execute_result"
    }
   ],
   "source": [
    "swift_result.shape, python_result.shape"
   ]
  },
  {
   "cell_type": "code",
   "execution_count": 18,
   "metadata": {},
   "outputs": [
    {
     "data": {
      "text/plain": [
       "array([[1., 1.],\n",
       "       [1., 1.]])"
      ]
     },
     "execution_count": 18,
     "metadata": {},
     "output_type": "execute_result"
    }
   ],
   "source": [
    "from sklearn.metrics.pairwise import cosine_similarity\n",
    "cosine_similarity([python_result, python_result])"
   ]
  },
  {
   "cell_type": "code",
   "execution_count": 19,
   "metadata": {},
   "outputs": [
    {
     "data": {
      "text/plain": [
       "array([[1.        , 0.99997607],\n",
       "       [0.99997607, 1.        ]])"
      ]
     },
     "execution_count": 19,
     "metadata": {},
     "output_type": "execute_result"
    }
   ],
   "source": [
    "cosine_similarity([python_result, optimized_python_result])"
   ]
  },
  {
   "cell_type": "code",
   "execution_count": 20,
   "metadata": {},
   "outputs": [
    {
     "data": {
      "text/plain": [
       "array([[1.0000103, 0.9999868],\n",
       "       [0.9999868, 1.0000101]], dtype=float32)"
      ]
     },
     "execution_count": 20,
     "metadata": {},
     "output_type": "execute_result"
    }
   ],
   "source": [
    "cosine_similarity([swift_result, python_result.astype(\"float32\")])"
   ]
  },
  {
   "cell_type": "markdown",
   "metadata": {},
   "source": [
    "Wow! almost same."
   ]
  },
  {
   "cell_type": "markdown",
   "metadata": {},
   "source": [
    "# Performance comparison between Numpy and Metal in 10 iterations"
   ]
  },
  {
   "cell_type": "code",
   "execution_count": 21,
   "metadata": {},
   "outputs": [],
   "source": [
    "def measure(f):\n",
    "    elapsed_logs = []\n",
    "    for i in range(10):\n",
    "        input_array = np.random.uniform(-50, 50, 100000).astype(\"float32\")\n",
    "        start = time.time()\n",
    "        f(input_array)\n",
    "        end = time.time()\n",
    "        elapsed_logs.append(end - start)\n",
    "        \n",
    "    return elapsed_logs"
   ]
  },
  {
   "cell_type": "code",
   "execution_count": 22,
   "metadata": {},
   "outputs": [],
   "source": [
    "# np.apply_along_axis\n",
    "python_results = measure(lambda input_array: np.apply_along_axis(lambda x: differential(f, x), 0, input_array))"
   ]
  },
  {
   "cell_type": "code",
   "execution_count": 23,
   "metadata": {},
   "outputs": [
    {
     "name": "stdout",
     "output_type": "stream",
     "text": [
      "Python time elapsed (second)\n"
     ]
    },
    {
     "data": {
      "text/plain": [
       "[0.017614126205444336,\n",
       " 0.017297744750976562,\n",
       " 0.01820516586303711,\n",
       " 0.015767812728881836,\n",
       " 0.01654195785522461,\n",
       " 0.015439271926879883,\n",
       " 0.014621973037719727,\n",
       " 0.014592885971069336,\n",
       " 0.014617204666137695,\n",
       " 0.015677928924560547]"
      ]
     },
     "execution_count": 23,
     "metadata": {},
     "output_type": "execute_result"
    }
   ],
   "source": [
    "print(\"Python time elapsed (second)\")\n",
    "python_results"
   ]
  },
  {
   "cell_type": "code",
   "execution_count": 24,
   "metadata": {},
   "outputs": [],
   "source": [
    "# Metal\n",
    "swift_results = measure(swift_differential_on_gpu)"
   ]
  },
  {
   "cell_type": "code",
   "execution_count": 25,
   "metadata": {},
   "outputs": [
    {
     "name": "stdout",
     "output_type": "stream",
     "text": [
      "Metal time elapsed (second)\n"
     ]
    },
    {
     "data": {
      "text/plain": [
       "[0.002980947494506836,\n",
       " 0.0008182525634765625,\n",
       " 0.0009021759033203125,\n",
       " 0.0008540153503417969,\n",
       " 0.0008161067962646484,\n",
       " 0.0007848739624023438,\n",
       " 0.0007979869842529297,\n",
       " 0.0007920265197753906,\n",
       " 0.0007829666137695312,\n",
       " 0.0008709430694580078]"
      ]
     },
     "execution_count": 25,
     "metadata": {},
     "output_type": "execute_result"
    }
   ],
   "source": [
    "print(\"Metal time elapsed (second)\")\n",
    "swift_results"
   ]
  },
  {
   "cell_type": "code",
   "execution_count": 32,
   "metadata": {},
   "outputs": [
    {
     "data": {
      "text/plain": [
       "<matplotlib.legend.Legend at 0x136621a60>"
      ]
     },
     "execution_count": 32,
     "metadata": {},
     "output_type": "execute_result"
    },
    {
     "data": {
      "image/png": "[encoded data removed]",
      "text/plain": [
       "<Figure size 720x288 with 1 Axes>"
      ]
     },
     "metadata": {
      "needs_background": "light"
     },
     "output_type": "display_data"
    }
   ],
   "source": [
    "%matplotlib inline\n",
    "\n",
    "fig, ax = plt.subplots(figsize=(10, 4))\n",
    "\n",
    "ax.plot(range(10), swift_results, '-o', label='Python+Metal')\n",
    "ax.plot(range(10), python_results, '-o', label='numpy')\n",
    "ax.set_title('Numpy and Metal performance comprison')\n",
    "ax.set_xlabel('iteration')\n",
    "ax.set_ylabel('time elapsed (second)')\n",
    "ax.grid(True)\n",
    "ax.legend()"
   ]
  }
 ],
 "metadata": {
  "kernelspec": {
   "display_name": "Python 3",
   "language": "python",
   "name": "python3"
  },
  "language_info": {
   "codemirror_mode": {
    "name": "ipython",
    "version": 3
   },
   "file_extension": ".py",
   "mimetype": "text/x-python",
   "name": "python",
   "nbconvert_exporter": "python",
   "pygments_lexer": "ipython3",
   "version": "3.8.0"
  }
 },
 "nbformat": 4,
 "nbformat_minor": 2
}
