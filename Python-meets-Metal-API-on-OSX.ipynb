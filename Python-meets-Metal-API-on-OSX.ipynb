{
 "cells": [
  {
   "cell_type": "markdown",
   "metadata": {},
   "source": [
    "# How to Access Metal API from Python?\n",
    "\n",
    "\n",
    "\n",
    "\n",
    "There are several ways to access Metal API from Python. I chose to access it via Swift (It's standard way). \n",
    "\n",
    "Here are the instructions for builiding swift and load dylib from python.\n",
    "\n",
    "<!-- PythonからMetalにアクセスするにはいくつかの方法がありますが、私はSwiftを介してMetalにアクセスすることにしました。\n",
    "PythonからSwiftのプログラムを実行するフローは次のようになります。 -->\n",
    "\n",
    "1. Writing Swift Program that use Metal\n",
    "    * Writing Metal Shaders\n",
    "        * Example: [Shaders.metal](https://github.com/noppoMan/python-metal-benchmark/blob/master/PyMetalBridge/Sources/PyMetalBridge/Shaders.metal)\n",
    "        * Documents: [Metal-Shading-Language-Specification](https://developer.apple.com/metal/Metal-Shading-Language-Specification.pdf)\n",
    "    * [Build Metal Sahders](https://developer.apple.com/documentation/metal/libraries/building_a_library_with_metal_s_command-line_tools)\n",
    "    * [Load .metallib from Swift and wiriting pipeline program for it](https://github.com/noppoMan/python-metal-benchmark/blob/master/PyMetalBridge/Sources/PyMetalBridge/PyMetalBridge.swift#L10)\n",
    "2. [Build and export Swift program as dynamic library](https://github.com/noppoMan/python-metal-benchmark/blob/master/PyMetalBridge/README.md)\n",
    "3. Load dylib(created at step.2) in Python with [ctypes](https://docs.python.org/3/library/ctypes.html)\n",
    "\n",
    "\n",
    "# Example"
   ]
  },
  {
   "cell_type": "code",
   "execution_count": 1,
   "metadata": {},
   "outputs": [],
   "source": [
    "import platform\n",
    "import numpy as np\n",
    "import ctypes\n",
    "import time\n",
    "import math\n",
    "import time\n",
    "from sklearn.metrics.pairwise import cosine_similarity\n",
    "import matplotlib.pyplot as plt"
   ]
  },
  {
   "cell_type": "code",
   "execution_count": 2,
   "metadata": {},
   "outputs": [
    {
     "name": "stdout",
     "output_type": "stream",
     "text": [
      "Python 3.8.0\r\n"
     ]
    }
   ],
   "source": [
    "!python --version"
   ]
  },
  {
   "cell_type": "code",
   "execution_count": 3,
   "metadata": {},
   "outputs": [],
   "source": [
    "# Loads dylib like dlopen\n",
    "swift_fun = ctypes.CDLL(\"./PyMetalBridge/.build/release/libPyMetalBridge.dylib\")\n",
    "\n",
    "# decleare arguments for function pointer\n",
    "swift_fun.swift_sigmoid_on_gpu.argtypes = [\n",
    "    ctypes.POINTER(ctypes.c_float), \n",
    "    ctypes.POINTER(ctypes.c_float), \n",
    "    ctypes.c_int\n",
    "]\n",
    "\n",
    "def swift_sigmoid_on_gpu(input_array):\n",
    "    input_ptr = input_array.ctypes.data_as(ctypes.POINTER(ctypes.c_float))\n",
    "    output_mutable_ptr = (ctypes.c_float * len(input_array))()\n",
    "    swift_fun.swift_sigmoid_on_gpu(input_ptr, output_mutable_ptr, len(input_array))\n",
    "    return np.array(output_mutable_ptr)"
   ]
  },
  {
   "cell_type": "code",
   "execution_count": 4,
   "metadata": {
    "scrolled": false
   },
   "outputs": [
    {
     "data": {
      "text/plain": [
       "array([0.6105559 , 0.6679164 , 0.62845826, 0.3848437 , 0.495644  ,\n",
       "       0.46605572, 0.32238558, 0.7194581 , 0.4290321 , 0.34520328,\n",
       "       0.5206449 , 0.32111698, 0.46824813, 0.2955806 , 0.6611921 ,\n",
       "       0.6740685 , 0.6808501 , 0.7191053 , 0.48633233, 0.3229029 ,\n",
       "       0.4431984 , 0.5041706 , 0.64652485, 0.58791703, 0.52528757,\n",
       "       0.3419067 , 0.7281717 , 0.5606467 , 0.31256655, 0.548036  ,\n",
       "       0.28628537, 0.700447  , 0.6057663 , 0.32199296, 0.64614373,\n",
       "       0.59987015, 0.5912111 , 0.7202584 , 0.43356487, 0.434703  ,\n",
       "       0.3551948 , 0.6922619 , 0.65250075, 0.6268359 , 0.5775243 ,\n",
       "       0.3794098 , 0.33095405, 0.59978265, 0.33874002, 0.7047129 ,\n",
       "       0.46908092, 0.4652026 , 0.71724135, 0.6210398 , 0.42970535,\n",
       "       0.65749776, 0.4576621 , 0.54752123, 0.4188267 , 0.32700476,\n",
       "       0.7013261 , 0.30228692, 0.72245586, 0.6319491 , 0.5266467 ,\n",
       "       0.37172052, 0.31285957, 0.72429436, 0.39822185, 0.65964085,\n",
       "       0.52471405, 0.6024873 , 0.6491423 , 0.600843  , 0.6319375 ,\n",
       "       0.71039337, 0.39118987, 0.29079813, 0.47939265, 0.52775854,\n",
       "       0.4446122 , 0.37910318, 0.41930753, 0.48834673, 0.5137068 ,\n",
       "       0.35057515, 0.4328151 , 0.4644785 , 0.7146356 , 0.290035  ,\n",
       "       0.6234886 , 0.36051348, 0.7056875 , 0.618992  , 0.5312534 ,\n",
       "       0.6224927 , 0.5673985 , 0.33585632, 0.69138426, 0.5957411 ],\n",
       "      dtype=float32)"
      ]
     },
     "execution_count": 4,
     "metadata": {},
     "output_type": "execute_result"
    }
   ],
   "source": [
    "input_array = np.random.uniform(-1, 1, 100).astype(\"float32\") # data type have to be float32 for GPU\n",
    "swift_result = swift_sigmoid_on_gpu(input_array)\n",
    "swift_result"
   ]
  },
  {
   "cell_type": "markdown",
   "metadata": {},
   "source": [
    "It seems to work fine, but you may be wondering if the calculation result is correct? So, let's implement a sigmoid function in python to verify and compare the result."
   ]
  },
  {
   "cell_type": "code",
   "execution_count": 5,
   "metadata": {},
   "outputs": [],
   "source": [
    "def sigmoid(x):\n",
    "    return 1 / (1 + np.exp(-x))\n",
    "\n",
    "python_result = sigmoid(input_array).astype(\"float32\")"
   ]
  },
  {
   "cell_type": "markdown",
   "metadata": {},
   "source": [
    "### Validate Results with cosine_similarity\n",
    "\n",
    "Let's compare swift_result and python_results by cosine_similarity to validate calculation justification."
   ]
  },
  {
   "cell_type": "code",
   "execution_count": 6,
   "metadata": {},
   "outputs": [
    {
     "data": {
      "text/plain": [
       "array([[1., 1.],\n",
       "       [1., 1.]], dtype=float32)"
      ]
     },
     "execution_count": 6,
     "metadata": {},
     "output_type": "execute_result"
    }
   ],
   "source": [
    "# Returns a matrix whose elements are all 1, if the 2 vectors are same\n",
    "cosine_similarity([python_result, python_result])"
   ]
  },
  {
   "cell_type": "code",
   "execution_count": 7,
   "metadata": {},
   "outputs": [
    {
     "data": {
      "text/plain": [
       "array([[1., 1.],\n",
       "       [1., 1.]], dtype=float32)"
      ]
     },
     "execution_count": 7,
     "metadata": {},
     "output_type": "execute_result"
    }
   ],
   "source": [
    "cosine_similarity([swift_result, python_result])"
   ]
  },
  {
   "cell_type": "markdown",
   "metadata": {},
   "source": [
    "Wow! almost same!"
   ]
  },
  {
   "cell_type": "markdown",
   "metadata": {},
   "source": [
    "# Benchmarking\n",
    "\n",
    "#### Test Machine Spec: Apple MacBook Pro (16-inch, 2019)\n",
    "\n",
    "* Processor: 2.4 GHz 8-Core Intel Core i9\n",
    "* RAM: 64 GB 2667 MHz DDR\n",
    "* GPU: AMD Radeon Pro 5500M（4GB)\n",
    "\n",
    "<!-- Pythonからmetalを実行できたとしても、実行速度が速くならばければコストをかけるメリットがありません。よって、複雑な計算をpure pythonとmetalの両方で行って、そのパフォーマンスを比較してみましょう。今回は、$[-1, 1]$からランダムに10万件のサンプルを取り出した数値に対して、次のフーリエ級数として展開し、その後一階微分するようなことを\n",
    "試みます。 -->\n",
    "\n",
    "Even if we can access Metal API from Python, there is no point unless the processing performance improves. So let's run complex calculations in both Pure Python and Metal to compare their performance. This time, we expand the Fourier series(as shown bellow) for the numerical values of 100,000 samples created with `np.arange(-50, 50, 0.001)`, and then perform the 1-th numerical differentiation.\n",
    "\n",
    "#### fourier series\n",
    "$$\n",
    "f(x) = \\sin(x) + \\frac{1}{3}\\sin(3x) + \\frac{1}{5}\\sin(5x) + \\frac{1}{7}\\sin(7x) + \\cdots ++ \\frac{1}{99}\\sin(99x)\n",
    "$$"
   ]
  },
  {
   "cell_type": "code",
   "execution_count": 8,
   "metadata": {},
   "outputs": [],
   "source": [
    "def f(x):\n",
    "    approximate = 0\n",
    "    for coeff in range(1, 100, 2):\n",
    "        approximate += (1/coeff)*np.sin(coeff*x)\n",
    "        \n",
    "    return approximate"
   ]
  },
  {
   "cell_type": "markdown",
   "metadata": {},
   "source": [
    "#### numerical differential \n",
    "\n",
    "$$\n",
    "\\frac{df}{dx} = \\frac{f(x + \\Delta) - f(x - \\Delta)}{2 \\Delta}\n",
    "$$"
   ]
  },
  {
   "cell_type": "code",
   "execution_count": 9,
   "metadata": {},
   "outputs": [],
   "source": [
    "def differential(f, x):\n",
    "    delta = 1e-4\n",
    "    return (f(x+delta) - f(x-delta)) / 2*delta"
   ]
  },
  {
   "cell_type": "markdown",
   "metadata": {},
   "source": [
    "## Pure Python Benchmarking"
   ]
  },
  {
   "cell_type": "code",
   "execution_count": 10,
   "metadata": {},
   "outputs": [],
   "source": [
    "def python_differential_on_cpu(input_array):\n",
    "    result = []\n",
    "    for x in input_array:\n",
    "        result.append(differential(f, x))\n",
    "    \n",
    "    return np.array(result)"
   ]
  },
  {
   "cell_type": "code",
   "execution_count": 11,
   "metadata": {},
   "outputs": [
    {
     "data": {
      "text/plain": [
       "(100000,)"
      ]
     },
     "execution_count": 11,
     "metadata": {},
     "output_type": "execute_result"
    }
   ],
   "source": [
    "input_array = np.arange(-50, 50, 0.001).astype(\"float32\") # have to be float32 for GPU\n",
    "input_array.shape"
   ]
  },
  {
   "cell_type": "code",
   "execution_count": 12,
   "metadata": {},
   "outputs": [
    {
     "name": "stdout",
     "output_type": "stream",
     "text": [
      "CPU times: user 15.3 s, sys: 26.9 ms, total: 15.3 s\n",
      "Wall time: 15.3 s\n"
     ]
    }
   ],
   "source": [
    "%%time\n",
    "python_result = python_differential_on_cpu(input_array)"
   ]
  },
  {
   "cell_type": "markdown",
   "metadata": {},
   "source": [
    "## Python + Swift and Metal Benchmarking\n",
    "\n",
    "### fourier series and numerical differential in Metal Shders\n",
    "\n",
    "```c++\n",
    "inline float f(const float x) {\n",
    "    float approximate = 0;\n",
    "    for(int coeff = 1; coeff < 100; coeff+=2) {\n",
    "        approximate += ((float)1/coeff)*sin(coeff*x);\n",
    "    }\n",
    "    return approximate;\n",
    "}\n",
    "\n",
    "constant float delta = 1e-4;\n",
    "\n",
    "kernel void differential(const device float *inVector [[ buffer(0) ]],\n",
    "                    device float *outVector [[ buffer(1) ]],\n",
    "                    uint id [[ thread_position_in_grid ]]) {\n",
    "    \n",
    "    float x = inVector[id];\n",
    "    outVector[id] = (f(x+delta) - f(x-delta)) / 2.0f*delta;\n",
    "}\n",
    "```\n",
    "\n",
    "\n",
    "### Loads dylib and declares swift function"
   ]
  },
  {
   "cell_type": "code",
   "execution_count": 13,
   "metadata": {},
   "outputs": [],
   "source": [
    "swift_fun = ctypes.CDLL(\"./PyMetalBridge/.build/release/libPyMetalBridge.dylib\")\n",
    "\n",
    "# decleare arguments type\n",
    "swift_fun.swift_differential_on_gpu.argtypes = [\n",
    "    ctypes.POINTER(ctypes.c_float), \n",
    "    ctypes.POINTER(ctypes.c_float),\n",
    "    ctypes.c_int\n",
    "]\n",
    "\n",
    "def swift_differential_on_gpu(input_array):\n",
    "    input_ptr = input_array.ctypes.data_as(ctypes.POINTER(ctypes.c_float))\n",
    "    output_mutable_ptr = (ctypes.c_float * len(input_array))()\n",
    "    swift_fun.swift_differential_on_gpu(input_ptr, output_mutable_ptr, len(input_array))\n",
    "    return np.array(output_mutable_ptr)"
   ]
  },
  {
   "cell_type": "code",
   "execution_count": 14,
   "metadata": {},
   "outputs": [
    {
     "name": "stdout",
     "output_type": "stream",
     "text": [
      "CPU times: user 1.3 ms, sys: 2.14 ms, total: 3.44 ms\n",
      "Wall time: 929 ms\n"
     ]
    }
   ],
   "source": [
    "%%time\n",
    "swift_result = swift_differential_on_gpu(input_array)"
   ]
  },
  {
   "cell_type": "markdown",
   "metadata": {},
   "source": [
    "As results, Python took `15.3 s`, Python + Metal took `929 ms`. So, Metal is incredibly faster!\n",
    "\n",
    "**Note: This benchmarking is not fair. Because, Metal uses Worker Threads and we can use [Accelerate Framework](https://developer.apple.com/documentation/accelerate) to optimize calculation speed on CPU.**"
   ]
  },
  {
   "cell_type": "markdown",
   "metadata": {},
   "source": [
    "# Validate Results"
   ]
  },
  {
   "cell_type": "code",
   "execution_count": 15,
   "metadata": {},
   "outputs": [
    {
     "data": {
      "text/plain": [
       "((100000,), (100000,))"
      ]
     },
     "execution_count": 15,
     "metadata": {},
     "output_type": "execute_result"
    }
   ],
   "source": [
    "swift_result.shape, python_result.shape"
   ]
  },
  {
   "cell_type": "code",
   "execution_count": 16,
   "metadata": {},
   "outputs": [
    {
     "data": {
      "text/plain": [
       "array([[1., 1.],\n",
       "       [1., 1.]])"
      ]
     },
     "execution_count": 16,
     "metadata": {},
     "output_type": "execute_result"
    }
   ],
   "source": [
    "from sklearn.metrics.pairwise import cosine_similarity\n",
    "cosine_similarity([python_result, python_result])"
   ]
  },
  {
   "cell_type": "code",
   "execution_count": 17,
   "metadata": {},
   "outputs": [
    {
     "data": {
      "text/plain": [
       "array([[1.0000103, 0.9999868],\n",
       "       [0.9999868, 1.0000101]], dtype=float32)"
      ]
     },
     "execution_count": 17,
     "metadata": {},
     "output_type": "execute_result"
    }
   ],
   "source": [
    "cosine_similarity([swift_result, python_result.astype(\"float32\")])"
   ]
  },
  {
   "cell_type": "markdown",
   "metadata": {},
   "source": [
    "Wow! almost same."
   ]
  },
  {
   "cell_type": "markdown",
   "metadata": {},
   "source": [
    "# Extra: 10 times processing performance "
   ]
  },
  {
   "cell_type": "code",
   "execution_count": 18,
   "metadata": {},
   "outputs": [],
   "source": [
    "def measure(f):\n",
    "    elapsed_logs = []\n",
    "    for i in range(10):\n",
    "        input_array = np.random.uniform(-50, 50, 100000).astype(\"float32\")\n",
    "        start = time.time()\n",
    "        f(input_array)\n",
    "        end = time.time()\n",
    "        elapsed_logs.append(end - start)\n",
    "        \n",
    "    return elapsed_logs"
   ]
  },
  {
   "cell_type": "code",
   "execution_count": 19,
   "metadata": {},
   "outputs": [],
   "source": [
    "python_results = measure(python_differential_on_cpu)"
   ]
  },
  {
   "cell_type": "code",
   "execution_count": 20,
   "metadata": {},
   "outputs": [
    {
     "name": "stdout",
     "output_type": "stream",
     "text": [
      "Python time elapsed (second)\n"
     ]
    },
    {
     "data": {
      "text/plain": [
       "[15.652062177658081,\n",
       " 15.562906980514526,\n",
       " 15.110552072525024,\n",
       " 14.996703863143921,\n",
       " 15.10574197769165,\n",
       " 15.234920263290405,\n",
       " 15.350646018981934,\n",
       " 15.299005031585693,\n",
       " 15.497770071029663,\n",
       " 15.540876865386963]"
      ]
     },
     "execution_count": 20,
     "metadata": {},
     "output_type": "execute_result"
    }
   ],
   "source": [
    "print(\"Python time elapsed (second)\")\n",
    "python_results"
   ]
  },
  {
   "cell_type": "code",
   "execution_count": 23,
   "metadata": {},
   "outputs": [],
   "source": [
    "swift_results = measure(swift_differential_on_gpu)"
   ]
  },
  {
   "cell_type": "code",
   "execution_count": 24,
   "metadata": {},
   "outputs": [
    {
     "name": "stdout",
     "output_type": "stream",
     "text": [
      "Metal time elapsed (second)\n"
     ]
    },
    {
     "data": {
      "text/plain": [
       "[0.003242015838623047,\n",
       " 0.0011489391326904297,\n",
       " 0.0011019706726074219,\n",
       " 0.0011899471282958984,\n",
       " 0.001148223876953125,\n",
       " 0.0010650157928466797,\n",
       " 0.0012011528015136719,\n",
       " 0.001377105712890625,\n",
       " 0.0010759830474853516,\n",
       " 0.0010731220245361328]"
      ]
     },
     "execution_count": 24,
     "metadata": {},
     "output_type": "execute_result"
    }
   ],
   "source": [
    "print(\"Metal time elapsed (second)\")\n",
    "swift_results"
   ]
  },
  {
   "cell_type": "code",
   "execution_count": 25,
   "metadata": {},
   "outputs": [
    {
     "data": {
      "image/png": "[encoded data removed]",
      "text/plain": [
       "<Figure size 720x288 with 2 Axes>"
      ]
     },
     "metadata": {
      "needs_background": "light"
     },
     "output_type": "display_data"
    }
   ],
   "source": [
    "%matplotlib inline\n",
    "\n",
    "fig, (axL, axR) = plt.subplots(ncols=2, figsize=(10, 4))\n",
    "\n",
    "axL.plot(range(10), swift_results, '-o', label='Python+Metal')\n",
    "axL.plot(range(10), python_results, '-o', label='Pure Python')\n",
    "axL.set_title('Python and Metal performance comprison')\n",
    "axL.set_xlabel('iteration')\n",
    "axL.set_ylabel('time elapsed (second)')\n",
    "axL.grid(True)\n",
    "axL.legend()\n",
    "\n",
    "axR.plot(range(10), swift_results, '-o')\n",
    "axR.set_title('Swift + Metal Detail')\n",
    "axR.set_xlabel('iteration')\n",
    "axR.set_ylabel('time elapsed (second)')\n",
    "axR.grid(True)"
   ]
  }
 ],
 "metadata": {
  "kernelspec": {
   "display_name": "Python 3",
   "language": "python",
   "name": "python3"
  },
  "language_info": {
   "codemirror_mode": {
    "name": "ipython",
    "version": 3
   },
   "file_extension": ".py",
   "mimetype": "text/x-python",
   "name": "python",
   "nbconvert_exporter": "python",
   "pygments_lexer": "ipython3",
   "version": "3.8.0"
  }
 },
 "nbformat": 4,
 "nbformat_minor": 2
}
