{
 "cells": [
  {
   "cell_type": "markdown",
   "metadata": {},
   "source": [
    "# How to Access Metal API from Python?\n",
    "\n",
    "\n",
    "\n",
    "\n",
    "There are several ways to access Metal API from Python. I chose to access it via Swift (It's standard way). \n",
    "\n",
    "Here are the instructions for builiding swift and load dylib from python.\n",
    "\n",
    "<!-- PythonからMetalにアクセスするにはいくつかの方法がありますが、私はSwiftを介してMetalにアクセスすることにしました。\n",
    "PythonからSwiftのプログラムを実行するフローは次のようになります。 -->\n",
    "\n",
    "1. Writing Swift Program that use Metal\n",
    "    * Writing Metal Shaders\n",
    "        * Example: [Shaders.metal](https://github.com/noppoMan/python-metal-benchmark/blob/gh-pages/PyMetalBridge/Sources/PyMetalBridge/Shaders.metal)\n",
    "        * Documents: [Metal-Shading-Language-Specification](https://developer.apple.com/metal/Metal-Shading-Language-Specification.pdf)\n",
    "    * [Build Metal Sahders](https://developer.apple.com/documentation/metal/libraries/building_a_library_with_metal_s_command-line_tools)\n",
    "    * [Load .metallib from Swift and wiriting pipeline program for it](https://github.com/noppoMan/python-metal-benchmark/blob/gh-pages/PyMetalBridge/Sources/PyMetalBridge/PyMetalBridge.swift#L11)\n",
    "2. [Build and export Swift program as dynamic library](https://github.com/noppoMan/python-metal-benchmark/blob/gh-pages/PyMetalBridge/README.md)\n",
    "3. Load dylib(created at step.2) in Python with [ctypes](https://docs.python.org/3/library/ctypes.html)\n",
    "\n",
    "\n",
    "# Example"
   ]
  },
  {
   "cell_type": "code",
   "execution_count": 1,
   "metadata": {},
   "outputs": [],
   "source": [
    "import platform\n",
    "import numpy as np\n",
    "import ctypes\n",
    "import time\n",
    "import math\n",
    "import time\n",
    "from sklearn.metrics.pairwise import cosine_similarity\n",
    "import matplotlib.pyplot as plt"
   ]
  },
  {
   "cell_type": "code",
   "execution_count": 2,
   "metadata": {},
   "outputs": [
    {
     "name": "stdout",
     "output_type": "stream",
     "text": [
      "Python 3.8.0\r\n"
     ]
    }
   ],
   "source": [
    "!python --version"
   ]
  },
  {
   "cell_type": "code",
   "execution_count": 3,
   "metadata": {},
   "outputs": [],
   "source": [
    "# Loads dylib like dlopen\n",
    "swift_fun = ctypes.CDLL(\"./PyMetalBridge/.build/release/libPyMetalBridge.dylib\")\n",
    "\n",
    "# decleare arguments for function pointer\n",
    "swift_fun.swift_sigmoid_on_gpu.argtypes = [\n",
    "    ctypes.POINTER(ctypes.c_float), \n",
    "    ctypes.POINTER(ctypes.c_float), \n",
    "    ctypes.c_int\n",
    "]\n",
    "\n",
    "def swift_sigmoid_on_gpu(input_array):\n",
    "    input_ptr = input_array.ctypes.data_as(ctypes.POINTER(ctypes.c_float))\n",
    "    output_mutable_ptr = (ctypes.c_float * len(input_array))()\n",
    "    swift_fun.swift_sigmoid_on_gpu(input_ptr, output_mutable_ptr, len(input_array))\n",
    "    return np.array(output_mutable_ptr)"
   ]
  },
  {
   "cell_type": "code",
   "execution_count": 4,
   "metadata": {
    "scrolled": false
   },
   "outputs": [
    {
     "data": {
      "text/plain": [
       "array([0.47861016, 0.27524903, 0.71253306, 0.5064557 , 0.64430207,\n",
       "       0.389694  , 0.35691467, 0.60283643, 0.44320086, 0.31876338,\n",
       "       0.53592247, 0.67109865, 0.7117729 , 0.5919577 , 0.59793675,\n",
       "       0.6869189 , 0.61848646, 0.30827925, 0.2912722 , 0.44238877,\n",
       "       0.33993402, 0.42418775, 0.3466718 , 0.27549532, 0.3260893 ,\n",
       "       0.28546685, 0.30542856, 0.539691  , 0.48059276, 0.4627214 ,\n",
       "       0.393174  , 0.37286943, 0.31088033, 0.2696172 , 0.3883789 ,\n",
       "       0.35709983, 0.6672036 , 0.4951041 , 0.3742879 , 0.6878597 ,\n",
       "       0.5487302 , 0.49910074, 0.3318065 , 0.64128214, 0.72707283,\n",
       "       0.2965912 , 0.65328604, 0.6028999 , 0.4742002 , 0.63668376,\n",
       "       0.62638754, 0.34848648, 0.34663606, 0.30757183, 0.6053475 ,\n",
       "       0.728238  , 0.718438  , 0.37307972, 0.27234185, 0.43797404,\n",
       "       0.6288411 , 0.71517515, 0.3995847 , 0.49197   , 0.2955922 ,\n",
       "       0.6222965 , 0.7299687 , 0.39750096, 0.6785631 , 0.3320321 ,\n",
       "       0.4686196 , 0.36608127, 0.6808817 , 0.5210217 , 0.34256107,\n",
       "       0.65955216, 0.48564228, 0.50396264, 0.69157594, 0.5036202 ,\n",
       "       0.5562569 , 0.3011833 , 0.7227413 , 0.4616875 , 0.3634031 ,\n",
       "       0.35782716, 0.6736457 , 0.6272397 , 0.6421854 , 0.6845587 ,\n",
       "       0.6200225 , 0.53924775, 0.6347062 , 0.27120253, 0.7114265 ,\n",
       "       0.5717736 , 0.5890778 , 0.59483397, 0.60945904, 0.6121304 ],\n",
       "      dtype=float32)"
      ]
     },
     "execution_count": 4,
     "metadata": {},
     "output_type": "execute_result"
    }
   ],
   "source": [
    "input_array = np.random.uniform(-1, 1, 100).astype(\"float32\") # data type have to be float32 for GPU\n",
    "swift_result = swift_sigmoid_on_gpu(input_array)\n",
    "swift_result"
   ]
  },
  {
   "cell_type": "markdown",
   "metadata": {},
   "source": [
    "It seems to work fine, but you may be wondering if the calculation result is correct? So, let's implement a sigmoid function in python to verify and compare the result."
   ]
  },
  {
   "cell_type": "code",
   "execution_count": 5,
   "metadata": {},
   "outputs": [],
   "source": [
    "def sigmoid(x):\n",
    "    return 1 / (1 + np.exp(-x))\n",
    "\n",
    "python_result = sigmoid(input_array).astype(\"float32\")"
   ]
  },
  {
   "cell_type": "markdown",
   "metadata": {},
   "source": [
    "### Validate Results with cosine_similarity\n",
    "\n",
    "Let's compare swift_result and python_results by cosine_similarity to validate calculation justification."
   ]
  },
  {
   "cell_type": "code",
   "execution_count": 6,
   "metadata": {},
   "outputs": [
    {
     "data": {
      "text/plain": [
       "array([[1.0000002, 1.0000002],\n",
       "       [1.0000002, 1.0000002]], dtype=float32)"
      ]
     },
     "execution_count": 6,
     "metadata": {},
     "output_type": "execute_result"
    }
   ],
   "source": [
    "# Returns a matrix whose elements are all 1, if the 2 vectors are same\n",
    "cosine_similarity([python_result, python_result])"
   ]
  },
  {
   "cell_type": "code",
   "execution_count": 7,
   "metadata": {},
   "outputs": [
    {
     "data": {
      "text/plain": [
       "array([[1.0000002, 1.0000002],\n",
       "       [1.0000002, 1.0000002]], dtype=float32)"
      ]
     },
     "execution_count": 7,
     "metadata": {},
     "output_type": "execute_result"
    }
   ],
   "source": [
    "cosine_similarity([swift_result, python_result])"
   ]
  },
  {
   "cell_type": "markdown",
   "metadata": {},
   "source": [
    "Wow! almost same!"
   ]
  },
  {
   "cell_type": "markdown",
   "metadata": {},
   "source": [
    "# Benchmarking\n",
    "\n",
    "#### Test Machine Spec: Apple MacBook Pro (16-inch, 2019)\n",
    "\n",
    "* Processor: 2.4 GHz 8-Core Intel Core i9\n",
    "* RAM: 64 GB 2667 MHz DDR\n",
    "* GPU: AMD Radeon Pro 5500M（4GB)\n",
    "\n",
    "<!-- Pythonからmetalを実行できたとしても、実行速度が速くならばければコストをかけるメリットがありません。よって、複雑な計算をpure pythonとmetalの両方で行って、そのパフォーマンスを比較してみましょう。今回は、$[-1, 1]$からランダムに10万件のサンプルを取り出した数値に対して、次のフーリエ級数として展開し、その後一階微分するようなことを\n",
    "試みます。 -->\n",
    "\n",
    "Even if we can access Metal API from Python, there is no point unless the processing performance improves. So let's run complex calculations in both Pure Python and Metal to compare their performance. This time, we expand the Fourier series(as shown bellow) for the numerical values of 100,000 samples created with `np.arange(-50, 50, 0.001)`, and then perform the 1-th numerical differentiation.\n",
    "\n",
    "#### fourier series\n",
    "$$\n",
    "f(x) = \\sin(x) + \\frac{1}{3}\\sin(3x) + \\frac{1}{5}\\sin(5x) + \\frac{1}{7}\\sin(7x) + \\cdots + \\frac{1}{9999}\\sin(9999x)\n",
    "$$"
   ]
  },
  {
   "cell_type": "code",
   "execution_count": 8,
   "metadata": {},
   "outputs": [],
   "source": [
    "def f(x):\n",
    "    approximate = 0\n",
    "    for coeff in range(1, 10000, 2):\n",
    "        approximate += (1/coeff)*np.sin(coeff*x)\n",
    "        \n",
    "    return approximate"
   ]
  },
  {
   "cell_type": "markdown",
   "metadata": {},
   "source": [
    "#### numerical differential \n",
    "\n",
    "$$\n",
    "\\frac{df}{dx} = \\frac{f(x + \\Delta) - f(x - \\Delta)}{2 \\Delta}\n",
    "$$"
   ]
  },
  {
   "cell_type": "code",
   "execution_count": 9,
   "metadata": {},
   "outputs": [],
   "source": [
    "def differential(f, x):\n",
    "    delta = 1e-4\n",
    "    return (f(x+delta) - f(x-delta)) / 2*delta"
   ]
  },
  {
   "cell_type": "markdown",
   "metadata": {},
   "source": [
    "## Benchmarking of Python + Numpy"
   ]
  },
  {
   "cell_type": "code",
   "execution_count": 10,
   "metadata": {},
   "outputs": [
    {
     "data": {
      "text/plain": [
       "(100000,)"
      ]
     },
     "execution_count": 10,
     "metadata": {},
     "output_type": "execute_result"
    }
   ],
   "source": [
    "input_array = np.arange(-50, 50, 0.001).astype(\"float32\") # have to be float32 for GPU\n",
    "input_array.shape"
   ]
  },
  {
   "cell_type": "markdown",
   "metadata": {},
   "source": [
    "### Optimized coumputation with numpy.apply_along_axis instead of for loop"
   ]
  },
  {
   "cell_type": "code",
   "execution_count": 11,
   "metadata": {},
   "outputs": [
    {
     "name": "stdout",
     "output_type": "stream",
     "text": [
      "CPU times: user 3.51 s, sys: 3.18 ms, total: 3.52 s\n",
      "Wall time: 3.52 s\n"
     ]
    }
   ],
   "source": [
    "%%time\n",
    "python_result = np.apply_along_axis(lambda x: differential(f, x), 0, input_array)"
   ]
  },
  {
   "cell_type": "markdown",
   "metadata": {},
   "source": [
    "It became much faster by using `np.apply_along_axis`. Therefore, I use `np.apply_along_axis` for benchmarking target for this time."
   ]
  },
  {
   "cell_type": "markdown",
   "metadata": {},
   "source": [
    "## Benchmarking of Python + Swift and Metal\n",
    "\n",
    "### fourier series and numerical differential in Metal Shders\n",
    "\n",
    "```c++\n",
    "inline float f(const float x) {\n",
    "    float approximate = 0;\n",
    "    for(int coeff = 1; coeff < 10000; coeff+=2) {\n",
    "        approximate += (1.0f/coeff)*sin(coeff*x);\n",
    "    }\n",
    "    return approximate;\n",
    "}\n",
    "\n",
    "constant float delta = 1e-4;\n",
    "\n",
    "kernel void differential(const device float *inVector [[ buffer(0) ]],\n",
    "                    device float *outVector [[ buffer(1) ]],\n",
    "                    uint id [[ thread_position_in_grid ]]) {\n",
    "    \n",
    "    float x = inVector[id];\n",
    "    outVector[id] = (f(x+delta) - f(x-delta)) / 2.0f*delta;\n",
    "}\n",
    "```\n",
    "\n",
    "\n",
    "### Loads dylib and declares swift function"
   ]
  },
  {
   "cell_type": "code",
   "execution_count": 12,
   "metadata": {},
   "outputs": [],
   "source": [
    "swift_fun = ctypes.CDLL(\"./PyMetalBridge/.build/release/libPyMetalBridge.dylib\")\n",
    "\n",
    "# decleare arguments type\n",
    "swift_fun.swift_differential_on_gpu.argtypes = [\n",
    "    ctypes.POINTER(ctypes.c_float), \n",
    "    ctypes.POINTER(ctypes.c_float),\n",
    "    ctypes.c_int\n",
    "]\n",
    "\n",
    "def swift_differential_on_gpu(input_array):\n",
    "    input_ptr = input_array.ctypes.data_as(ctypes.POINTER(ctypes.c_float))\n",
    "    output_mutable_ptr = (ctypes.c_float * len(input_array))()\n",
    "    swift_fun.swift_differential_on_gpu(input_ptr, output_mutable_ptr, len(input_array))\n",
    "    return np.array(output_mutable_ptr)"
   ]
  },
  {
   "cell_type": "markdown",
   "metadata": {},
   "source": [
    "## First Time(Cold)"
   ]
  },
  {
   "cell_type": "code",
   "execution_count": 13,
   "metadata": {},
   "outputs": [
    {
     "name": "stdout",
     "output_type": "stream",
     "text": [
      "CPU times: user 982 µs, sys: 1.31 ms, total: 2.29 ms\n",
      "Wall time: 10.3 ms\n"
     ]
    }
   ],
   "source": [
    "%%time\n",
    "swift_result = swift_differential_on_gpu(input_array)"
   ]
  },
  {
   "cell_type": "markdown",
   "metadata": {},
   "source": [
    "## Second Time(Hot)"
   ]
  },
  {
   "cell_type": "code",
   "execution_count": 14,
   "metadata": {},
   "outputs": [
    {
     "name": "stdout",
     "output_type": "stream",
     "text": [
      "CPU times: user 1.11 ms, sys: 1.37 ms, total: 2.47 ms\n",
      "Wall time: 8.1 ms\n"
     ]
    }
   ],
   "source": [
    "%%time\n",
    "swift_result = swift_differential_on_gpu(input_array)"
   ]
  },
  {
   "cell_type": "markdown",
   "metadata": {},
   "source": [
    "As results, Python + Numpy took `1.23 s`, but Python + Metal took `4.51 ms` at second time. So, Metal is incredibly faster!"
   ]
  },
  {
   "cell_type": "markdown",
   "metadata": {},
   "source": [
    "# Validate Results"
   ]
  },
  {
   "cell_type": "code",
   "execution_count": 15,
   "metadata": {},
   "outputs": [
    {
     "data": {
      "text/plain": [
       "((100000,), (100000,))"
      ]
     },
     "execution_count": 15,
     "metadata": {},
     "output_type": "execute_result"
    }
   ],
   "source": [
    "swift_result.shape, python_result.shape"
   ]
  },
  {
   "cell_type": "code",
   "execution_count": 16,
   "metadata": {},
   "outputs": [
    {
     "data": {
      "text/plain": [
       "array([[1.0000523, 1.0000523],\n",
       "       [1.0000523, 1.0000523]], dtype=float32)"
      ]
     },
     "execution_count": 16,
     "metadata": {},
     "output_type": "execute_result"
    }
   ],
   "source": [
    "from sklearn.metrics.pairwise import cosine_similarity\n",
    "cosine_similarity([python_result, python_result])"
   ]
  },
  {
   "cell_type": "code",
   "execution_count": 17,
   "metadata": {},
   "outputs": [
    {
     "data": {
      "text/plain": [
       "array([[1.0000539, 1.0000181],\n",
       "       [1.0000181, 1.0000523]], dtype=float32)"
      ]
     },
     "execution_count": 17,
     "metadata": {},
     "output_type": "execute_result"
    }
   ],
   "source": [
    "cosine_similarity([swift_result, python_result.astype(\"float32\")])"
   ]
  },
  {
   "cell_type": "markdown",
   "metadata": {},
   "source": [
    "Wow! almost same."
   ]
  },
  {
   "cell_type": "markdown",
   "metadata": {},
   "source": [
    "# Performance comparison between Numpy and Metal in 10 iterations"
   ]
  },
  {
   "cell_type": "code",
   "execution_count": 18,
   "metadata": {},
   "outputs": [],
   "source": [
    "def measure(f):\n",
    "    elapsed_logs = []\n",
    "    for i in range(10):\n",
    "        input_array = np.random.uniform(-50, 50, 100000).astype(\"float32\")\n",
    "        start = time.time()\n",
    "        f(input_array)\n",
    "        end = time.time()\n",
    "        elapsed_logs.append(end - start)\n",
    "        \n",
    "    return elapsed_logs"
   ]
  },
  {
   "cell_type": "code",
   "execution_count": 19,
   "metadata": {},
   "outputs": [],
   "source": [
    "# np.apply_along_axis\n",
    "python_results = measure(lambda input_array: np.apply_along_axis(lambda x: differential(f, x), 0, input_array))"
   ]
  },
  {
   "cell_type": "code",
   "execution_count": 20,
   "metadata": {},
   "outputs": [
    {
     "name": "stdout",
     "output_type": "stream",
     "text": [
      "Python time elapsed (second)\n"
     ]
    },
    {
     "data": {
      "text/plain": [
       "[7.2743401527404785,\n",
       " 7.240334987640381,\n",
       " 7.485050678253174,\n",
       " 7.156182765960693,\n",
       " 7.047566175460815,\n",
       " 7.03191614151001,\n",
       " 7.006180763244629,\n",
       " 6.995512008666992,\n",
       " 7.056458950042725,\n",
       " 7.020463228225708]"
      ]
     },
     "execution_count": 20,
     "metadata": {},
     "output_type": "execute_result"
    }
   ],
   "source": [
    "print(\"Python time elapsed (second)\")\n",
    "python_results"
   ]
  },
  {
   "cell_type": "code",
   "execution_count": 21,
   "metadata": {},
   "outputs": [],
   "source": [
    "# Metal\n",
    "swift_results = measure(swift_differential_on_gpu)"
   ]
  },
  {
   "cell_type": "code",
   "execution_count": 22,
   "metadata": {},
   "outputs": [
    {
     "name": "stdout",
     "output_type": "stream",
     "text": [
      "Metal time elapsed (second)\n"
     ]
    },
    {
     "data": {
      "text/plain": [
       "[0.9524149894714355,\n",
       " 0.008167028427124023,\n",
       " 0.008337736129760742,\n",
       " 0.008405685424804688,\n",
       " 0.008406639099121094,\n",
       " 0.008293867111206055,\n",
       " 0.007641792297363281,\n",
       " 0.008014678955078125,\n",
       " 0.008147001266479492,\n",
       " 0.008392810821533203]"
      ]
     },
     "execution_count": 22,
     "metadata": {},
     "output_type": "execute_result"
    }
   ],
   "source": [
    "print(\"Metal time elapsed (second)\")\n",
    "swift_results"
   ]
  },
  {
   "cell_type": "code",
   "execution_count": 23,
   "metadata": {},
   "outputs": [
    {
     "data": {
      "text/plain": [
       "<matplotlib.legend.Legend at 0x13b96ba60>"
      ]
     },
     "execution_count": 23,
     "metadata": {},
     "output_type": "execute_result"
    },
    {
     "data": {
      "image/png": "[encoded data removed]",
      "text/plain": [
       "<Figure size 720x288 with 1 Axes>"
      ]
     },
     "metadata": {
      "needs_background": "light"
     },
     "output_type": "display_data"
    }
   ],
   "source": [
    "%matplotlib inline\n",
    "\n",
    "fig, ax = plt.subplots(figsize=(10, 4))\n",
    "\n",
    "ax.plot(range(10), swift_results, '-o', label='Python+Metal')\n",
    "ax.plot(range(10), python_results, '-o', label='Python + Numpy')\n",
    "ax.set_title('Numpy and Metal performance comprison')\n",
    "ax.set_xlabel('iteration')\n",
    "ax.set_ylabel('time elapsed (second)')\n",
    "ax.grid(True)\n",
    "ax.legend()"
   ]
  }
 ],
 "metadata": {
  "kernelspec": {
   "display_name": "Python 3",
   "language": "python",
   "name": "python3"
  },
  "language_info": {
   "codemirror_mode": {
    "name": "ipython",
    "version": 3
   },
   "file_extension": ".py",
   "mimetype": "text/x-python",
   "name": "python",
   "nbconvert_exporter": "python",
   "pygments_lexer": "ipython3",
   "version": "3.8.0"
  }
 },
 "nbformat": 4,
 "nbformat_minor": 2
}
